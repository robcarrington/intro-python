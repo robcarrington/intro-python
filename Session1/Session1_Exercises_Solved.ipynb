{
 "cells": [
  {
   "cell_type": "markdown",
   "metadata": {},
   "source": [
    "# Intro to Python Programming\n",
    "### *Session \\#1*\n",
    "---\n",
    "###  Jupyter Notebooks\n",
    "  - Standard format for doing/sharing a data analysis. \n",
    "  - Code is run cell-by-cell, with cells run earlier affecting cells run later.\n",
    "  - Name \"Jupyter\" comes from combining Julia, Python and R -- the three biggest languages for data. \n",
    "  - Notebooks run _on your computer_, not the internet. Note that your address bar starts with \"localhost.\"\n",
    "  - To write labels and explanatory text like this, you need to use [Markdown](https://www.markdownguide.org/cheat-sheet/) and switch the cell's mode to match.\n",
    "\n",
    "### Helpful shortcuts\n",
    "---\n",
    "\n",
    "**SHIFT** + **ENTER** ----> Execute Cell\n",
    "\n",
    "**UP/DOWN ARROWS** --> Move cursor between cells (then ENTER to start typing)\n",
    "\n",
    "**TAB** ----> See autocomplete options\n",
    "\n",
    "**ESC** then **b** ----> Create Cell \n",
    "\n",
    "**ESC** then **dd** ----> Delete Cell\n",
    "\n",
    "**\\[python expression\\]?** ---> Explanation of that Python expression\n",
    "\n",
    "**ESC** then **m** then __ENTER__ ----> Switch to Markdown mode"
   ]
  },
  {
   "cell_type": "markdown",
   "metadata": {},
   "source": [
    "## I. Numbers and Variables"
   ]
  },
  {
   "cell_type": "markdown",
   "metadata": {},
   "source": [
    "### Warm Ups\n",
    "\n",
    "*Type the given code into the cell below*\n",
    "\n",
    "---\n",
    "\n",
    "**Add**: `8 + 7`"
   ]
  },
  {
   "cell_type": "code",
   "execution_count": null,
   "metadata": {},
   "outputs": [],
   "source": []
  },
  {
   "cell_type": "markdown",
   "metadata": {},
   "source": [
    "**Divide**:  `10 / 4`"
   ]
  },
  {
   "cell_type": "code",
   "execution_count": null,
   "metadata": {},
   "outputs": [],
   "source": []
  },
  {
   "cell_type": "markdown",
   "metadata": {},
   "source": [
    "**Multiply**:  `11 * 7`"
   ]
  },
  {
   "cell_type": "code",
   "execution_count": null,
   "metadata": {},
   "outputs": [],
   "source": []
  },
  {
   "cell_type": "markdown",
   "metadata": {},
   "source": [
    "**Raise to power**:  `2 ** 3`"
   ]
  },
  {
   "cell_type": "code",
   "execution_count": null,
   "metadata": {},
   "outputs": [],
   "source": []
  },
  {
   "cell_type": "markdown",
   "metadata": {},
   "source": [
    "**Modulo (aka remainder)**:  `10 % 6`"
   ]
  },
  {
   "cell_type": "code",
   "execution_count": null,
   "metadata": {},
   "outputs": [],
   "source": []
  },
  {
   "cell_type": "markdown",
   "metadata": {},
   "source": [
    "**Create a variable**:  `number_of_planets = 8`"
   ]
  },
  {
   "cell_type": "code",
   "execution_count": null,
   "metadata": {},
   "outputs": [],
   "source": []
  },
  {
   "cell_type": "markdown",
   "metadata": {},
   "source": [
    "### Exercises\n",
    "---\n",
    "\n",
    "**1. Compute the number of seconds in a year.**\n",
    "\n",
    "(Hint: There are 60 seconds per minute, \n",
    "                60 minutes per hour, \n",
    "                24 hours per day, and \n",
    "                365 days per year.)"
   ]
  },
  {
   "cell_type": "code",
   "execution_count": null,
   "metadata": {},
   "outputs": [],
   "source": [
    "60 * 60 * 24 * 365"
   ]
  },
  {
   "cell_type": "markdown",
   "metadata": {},
   "source": [
    "**2. Is 2001 divisible by 3 or not?**\n",
    "\n",
    "(Hint: Use the modulo operator %)"
   ]
  },
  {
   "cell_type": "code",
   "execution_count": null,
   "metadata": {},
   "outputs": [],
   "source": [
    "2001 % 3"
   ]
  },
  {
   "cell_type": "markdown",
   "metadata": {},
   "source": [
    "**3. Create a variable** `dinner_bill` **which equals 40. When it's time to tip, how would you use Python to find 20% of** `dinner_bill` **?**\n",
    "\n",
    "(Hint: Remember to translate your percent to a decimal, e.g. 10% -> 0.1)"
   ]
  },
  {
   "cell_type": "code",
   "execution_count": null,
   "metadata": {},
   "outputs": [],
   "source": [
    "dinner_bill = 90\n",
    "\n",
    "0.2 * dinner_bill"
   ]
  },
  {
   "cell_type": "markdown",
   "metadata": {},
   "source": [
    "**4. One cell in a petri dish divides into two every hour. After one day, how many cells will result from that one initial cell?**\n",
    "\n",
    "(Hint: Every time the cells divide, the total number is raised by a power of 2.)"
   ]
  },
  {
   "cell_type": "code",
   "execution_count": null,
   "metadata": {},
   "outputs": [],
   "source": [
    "2 ** 24"
   ]
  },
  {
   "cell_type": "markdown",
   "metadata": {},
   "source": [
    "### Extra Credit\n",
    "---\n",
    "\n",
    "**1. The Fibonacci sequence is the series of numbers 1, 1, 2, 3, 5, 8, 13, etc... where each number is the sum of the previous two.** \n",
    "\n",
    "**Can you write code that will find the next Fibonacci number every time it is run?**\n",
    "\n",
    "(Hint: You can set a variable equal to another variable, e.g. var1 = var2)"
   ]
  },
  {
   "cell_type": "code",
   "execution_count": 2,
   "metadata": {},
   "outputs": [],
   "source": [
    "# Run this cell to set initial values\n",
    "\n",
    "two_before = 1\n",
    "one_before = 1\n",
    "current = 2"
   ]
  },
  {
   "cell_type": "code",
   "execution_count": null,
   "metadata": {},
   "outputs": [],
   "source": [
    "# Add three lines of code here\n",
    "two_before = one_before\n",
    "one_before = current\n",
    "current = one_before + two_before\n",
    "\n",
    "# To see what number results, keep this as your last line\n",
    "current"
   ]
  },
  {
   "cell_type": "markdown",
   "metadata": {},
   "source": [
    "## II. Strings and Slicing\n",
    "\n",
    "### Warm Ups\n",
    "*Type the given code into the cell below*\n",
    "\n",
    "---\n",
    "\n",
    "**String literal:** `jedi = \"Obi-wan Kenobi\"`"
   ]
  },
  {
   "cell_type": "code",
   "execution_count": null,
   "metadata": {},
   "outputs": [],
   "source": []
  },
  {
   "cell_type": "markdown",
   "metadata": {},
   "source": [
    "**Addition**: `\"Luke\" + \" Skywalker\"`"
   ]
  },
  {
   "cell_type": "code",
   "execution_count": null,
   "metadata": {},
   "outputs": [],
   "source": []
  },
  {
   "cell_type": "markdown",
   "metadata": {},
   "source": [
    "**Grab with index:** `jedi[0]`"
   ]
  },
  {
   "cell_type": "code",
   "execution_count": null,
   "metadata": {},
   "outputs": [],
   "source": []
  },
  {
   "cell_type": "markdown",
   "metadata": {},
   "source": [
    "**Grab with negative index:** `jedi[-1]`"
   ]
  },
  {
   "cell_type": "code",
   "execution_count": null,
   "metadata": {},
   "outputs": [],
   "source": []
  },
  {
   "cell_type": "markdown",
   "metadata": {},
   "source": [
    "**Grab with slice:** `jedi[4:7]`"
   ]
  },
  {
   "cell_type": "code",
   "execution_count": null,
   "metadata": {},
   "outputs": [],
   "source": []
  },
  {
   "cell_type": "markdown",
   "metadata": {},
   "source": [
    "**Reverse a string:** `jedi[::-1]`"
   ]
  },
  {
   "cell_type": "code",
   "execution_count": null,
   "metadata": {},
   "outputs": [],
   "source": []
  },
  {
   "cell_type": "markdown",
   "metadata": {},
   "source": [
    "### Exercises\n",
    "---\n",
    "**1. Create a variable** `my_name` **and assign it to a string literal of your name.**"
   ]
  },
  {
   "cell_type": "code",
   "execution_count": null,
   "metadata": {},
   "outputs": [],
   "source": [
    "my_name = \"Rob\""
   ]
  },
  {
   "cell_type": "markdown",
   "metadata": {},
   "source": [
    "**2. Use an index to grab the second letter of your name.**"
   ]
  },
  {
   "cell_type": "code",
   "execution_count": null,
   "metadata": {},
   "outputs": [],
   "source": [
    "my_name[1]"
   ]
  },
  {
   "cell_type": "markdown",
   "metadata": {},
   "source": [
    "**3. Use a negative index to grab the last letter of your name.**"
   ]
  },
  {
   "cell_type": "code",
   "execution_count": null,
   "metadata": {},
   "outputs": [],
   "source": [
    "my_name[-1]"
   ]
  },
  {
   "cell_type": "markdown",
   "metadata": {},
   "source": [
    "**4. Use a slice to grab all but the first letter of your name**"
   ]
  },
  {
   "cell_type": "code",
   "execution_count": null,
   "metadata": {},
   "outputs": [],
   "source": [
    "my_name[1:]"
   ]
  },
  {
   "cell_type": "markdown",
   "metadata": {},
   "source": [
    "**5. Add your name to the reverse of your name.**\n",
    "\n",
    "**For example, if your name was** `Rob`**, the result would be** `RobboR`."
   ]
  },
  {
   "cell_type": "code",
   "execution_count": null,
   "metadata": {},
   "outputs": [],
   "source": [
    "my_name = \"Rob\"\n",
    "\n",
    "my_name + my_name[::-1]"
   ]
  },
  {
   "cell_type": "markdown",
   "metadata": {},
   "source": [
    "## Extra Credit\n",
    "---\n",
    "**1. Use slices to put the following Yoda quote into correct grammatical order.**"
   ]
  },
  {
   "cell_type": "code",
   "execution_count": 50,
   "metadata": {},
   "outputs": [],
   "source": [
    "quote = \"always in motion is the future\"\n",
    "\n",
    "quote[-10:] + quote[-14:-10] + quote[:16]"
   ]
  },
  {
   "cell_type": "markdown",
   "metadata": {},
   "source": [
    "## III. Functions and Methods\n",
    "\n",
    "### Warm Ups\n",
    "*Type the given code into the cell below*\n",
    "\n",
    "---\n",
    "**Cast as string:** `str(100)` "
   ]
  },
  {
   "cell_type": "code",
   "execution_count": null,
   "metadata": {},
   "outputs": [],
   "source": []
  },
  {
   "cell_type": "markdown",
   "metadata": {},
   "source": [
    "**Replace**: `jedi.replace(\"Obi-wan\", \"Ben\")`"
   ]
  },
  {
   "cell_type": "code",
   "execution_count": null,
   "metadata": {},
   "outputs": [],
   "source": []
  },
  {
   "cell_type": "markdown",
   "metadata": {},
   "source": [
    "**Count:** `\"do or do not\".count(\"do\")`"
   ]
  },
  {
   "cell_type": "code",
   "execution_count": null,
   "metadata": {},
   "outputs": [],
   "source": []
  },
  {
   "cell_type": "markdown",
   "metadata": {},
   "source": [
    "**Find length:** `len(jedi)`"
   ]
  },
  {
   "cell_type": "code",
   "execution_count": null,
   "metadata": {},
   "outputs": [],
   "source": []
  },
  {
   "cell_type": "markdown",
   "metadata": {},
   "source": [
    "**Find maximum value:** `max(1, 2)`"
   ]
  },
  {
   "cell_type": "code",
   "execution_count": null,
   "metadata": {},
   "outputs": [],
   "source": []
  },
  {
   "cell_type": "markdown",
   "metadata": {},
   "source": [
    "### Exercises\n",
    "---\n"
   ]
  },
  {
   "cell_type": "markdown",
   "metadata": {},
   "source": [
    "**1. Change the sentence below into the internet version of itself, by replacing** `\"t\"` **with** `\"7\"` and `\"e\"` **with** `\"3\"`.\n",
    "\n",
    "Hint: Use a variable to store the output of the first replace."
   ]
  },
  {
   "cell_type": "code",
   "execution_count": 31,
   "metadata": {},
   "outputs": [],
   "source": [
    "sentence = \"Python is totally excellent.\"\n",
    "\n",
    "edit1 = sentence.replace(\"t\", \"7\")\n",
    "edit2 = edit1.replace(\"e\", \"3\")\n",
    "\n",
    "edit2"
   ]
  },
  {
   "cell_type": "markdown",
   "metadata": {},
   "source": [
    "**2. Write an expression that will tell you the length of whichever string is longer. The result should still be true even if you change** `word1` **and** `word2`."
   ]
  },
  {
   "cell_type": "code",
   "execution_count": 8,
   "metadata": {},
   "outputs": [],
   "source": [
    "word1 = \"Death Star\"\n",
    "word2 = \"Tattoine\"\n",
    "\n",
    "max(len(word1), len(word2))"
   ]
  },
  {
   "cell_type": "markdown",
   "metadata": {},
   "source": [
    "**3. Which number appears more frequently in the approximation of pi below -- 1 or 5?**\n",
    "\n",
    "Hint: You will need to convert `pi` into a string to get its digits."
   ]
  },
  {
   "cell_type": "code",
   "execution_count": null,
   "metadata": {},
   "outputs": [],
   "source": [
    "pi = 3.141592653589793\n",
    "\n",
    "str_pi = str(pi)\n",
    "str_pi.count(\"1\")\n",
    "str_pi.count(\"5\")"
   ]
  },
  {
   "cell_type": "markdown",
   "metadata": {},
   "source": [
    "**4. Write an expression that will always tell you the length of the string contained in** `word`\n",
    "\n",
    "**For example, if word is equal to** `\"lightsaber\"` **like below, the result should be** `\"The word lightsaber contains 10 letters\"`\n",
    "\n",
    "**If you change** `word` **to a different string like** `\"cat\"` **, the expression should output a new result:** `\"The word cat contains 3 letters\"`"
   ]
  },
  {
   "cell_type": "code",
   "execution_count": null,
   "metadata": {},
   "outputs": [],
   "source": [
    "word = \"lightsaber\"\n",
    "\n",
    "\"The word \" + word + \" contains \" + str(len(word)) + \" letters\""
   ]
  },
  {
   "cell_type": "markdown",
   "metadata": {},
   "source": [
    "## Extra credit\n",
    "---\n",
    "**1. The letter \"p\" makes up what percentage of letters in the following tongue twister?**\n",
    "\n",
    "Hint: You can remove spaces in a string with .replace(\" \", \"\")"
   ]
  },
  {
   "cell_type": "code",
   "execution_count": 67,
   "metadata": {},
   "outputs": [],
   "source": [
    "twister = \"peter piper picked a peck of pickled peppers\"\n",
    "\n",
    "twister.count(\"p\") / len(twister.replace(\" \", \"\"))"
   ]
  }
 ],
 "metadata": {
  "kernelspec": {
   "display_name": "Python 3",
   "language": "python",
   "name": "python3"
  },
  "language_info": {
   "codemirror_mode": {
    "name": "ipython",
    "version": 3
   },
   "file_extension": ".py",
   "mimetype": "text/x-python",
   "name": "python",
   "nbconvert_exporter": "python",
   "pygments_lexer": "ipython3",
   "version": "3.6.8"
  }
 },
 "nbformat": 4,
 "nbformat_minor": 2
}
