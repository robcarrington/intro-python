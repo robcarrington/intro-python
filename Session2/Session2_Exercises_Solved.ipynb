{
 "cells": [
  {
   "cell_type": "markdown",
   "metadata": {},
   "source": [
    "# Intro to Python Programming\n",
    "### *Session \\#2*\n",
    "---\n",
    "\n",
    "### Helpful shortcuts\n",
    "---\n",
    "\n",
    "**SHIFT** + **ENTER** ----> Execute Cell\n",
    "\n",
    "**TAB** ----> See autocomplete options\n",
    "\n",
    "**ESC** then **b** ----> Create Cell \n",
    "\n",
    "**ESC** then **dd** ----> Delete Cell\n",
    "\n",
    "**\\[python expression\\]?** ---> Explanation of that Python expression\n",
    "\n",
    "**ESC** then **m** then __ENTER__ ----> Switch to Markdown mode"
   ]
  },
  {
   "cell_type": "markdown",
   "metadata": {},
   "source": [
    "## I. Defining Functions\n",
    "\n",
    "### Warm Ups\n",
    "*Type the given code into the cell below*\n",
    "\n",
    "---\n",
    "**Define a function**: \n",
    "```python\n",
    "def greet_me(my_name):\n",
    "    greeting = \"hello \" + my_name\n",
    "    return greeting\n",
    "```"
   ]
  },
  {
   "cell_type": "code",
   "execution_count": null,
   "metadata": {},
   "outputs": [],
   "source": []
  },
  {
   "cell_type": "markdown",
   "metadata": {},
   "source": [
    "**Function with multiple parameters:**\n",
    "    \n",
    "```python\n",
    "def greet_us(me, you):\n",
    "    answer = \"hello \" + me + \" and \" + you\n",
    "    return answer\n",
    "```"
   ]
  },
  {
   "cell_type": "code",
   "execution_count": null,
   "metadata": {},
   "outputs": [],
   "source": []
  },
  {
   "cell_type": "markdown",
   "metadata": {},
   "source": [
    "### Bonus troubleshooting checklist\n",
    "\n",
    "- Start with `def`\n",
    "- Parameter names are arbitrary labels (like variables), not strings or numbers\n",
    "- Parameters separated by commas\n",
    "- Colon at the end of first line\n",
    "- Code inside the function is indented\n",
    "- Only one `return` at the very end\n",
    "- Defining isn't the same as running. Still need to call() your function."
   ]
  },
  {
   "cell_type": "markdown",
   "metadata": {},
   "source": [
    "### Exercises\n",
    "---\n",
    "**1. Create a function** `german_greet()` **that will greet you in German, using your name as input.** \n",
    "\n",
    "Hint: \"Guten tag\" is how you greet a friend in German"
   ]
  },
  {
   "cell_type": "code",
   "execution_count": 10,
   "metadata": {},
   "outputs": [],
   "source": [
    "def german_greet(name):\n",
    "    answer = \"Guten tag, \" + name\n",
    "    return answer"
   ]
  },
  {
   "cell_type": "markdown",
   "metadata": {},
   "source": [
    "**2. Write a function** `word_mirror()` **that takes a string, and returns the string *plus* the `|` sign *plus* that string reversed**\n",
    "\n",
    "**For example:** `\"Tower\"` **would become** `\"Tower|rewoT\"`"
   ]
  },
  {
   "cell_type": "code",
   "execution_count": 8,
   "metadata": {},
   "outputs": [],
   "source": [
    "def word_mirror(string):\n",
    "    output = string + \"|\" + string[::-1]\n",
    "    return output"
   ]
  },
  {
   "cell_type": "markdown",
   "metadata": {},
   "source": [
    "**3. A Madlib is a story where certain words are left out, and in their place you inject suggestions from a friend.** \n",
    "\n",
    "**Create a Madlib function that takes two nouns,** `noun1` **and** `noun2`, **and returns a sentence that uses them!** "
   ]
  },
  {
   "cell_type": "code",
   "execution_count": 6,
   "metadata": {},
   "outputs": [],
   "source": [
    "def madlib(noun1, noun2):\n",
    "    story = \"I went to the \" + noun1 + \" store and bought a \" + noun2\n",
    "    return story"
   ]
  },
  {
   "cell_type": "markdown",
   "metadata": {},
   "source": [
    "**4. Write a function** `hide_ssn()` **to mask strings of Social Security numbers, returning five asterix and the last four digits.** \n",
    "\n",
    "**For example,** `hide_ssn(\"123456789\")` **would return** `\"*****6789\"`\n",
    "\n",
    "Hint: Use a slice, not `.replace()`"
   ]
  },
  {
   "cell_type": "code",
   "execution_count": 2,
   "metadata": {},
   "outputs": [],
   "source": [
    "def hide_ssn(ssn):\n",
    "    return \"*****\" + ssn[-4:] "
   ]
  },
  {
   "cell_type": "markdown",
   "metadata": {},
   "source": [
    "### Extra Credit\n",
    "---\n",
    "**1. Strings have a** `.split()` **method which will break up the string on spaces and return a list.**\n",
    "\n",
    "**For example,** `\"I am groot\".split()` **would return:** `[\"I\", \"am\", \"groot\"]`\n",
    "\n",
    "**Use the split method to grab the zipcode out of the address below.**"
   ]
  },
  {
   "cell_type": "code",
   "execution_count": 1,
   "metadata": {},
   "outputs": [
    {
     "data": {
      "text/plain": [
       "'20500'"
      ]
     },
     "execution_count": 1,
     "metadata": {},
     "output_type": "execute_result"
    }
   ],
   "source": [
    "address = \"1600 Pennsylvania Ave NW, Washington, DC 20500\"\n",
    "\n",
    "address.split()[-1]"
   ]
  },
  {
   "cell_type": "markdown",
   "metadata": {},
   "source": [
    "## II. Debugging Functions\n",
    "### Warm Ups\n",
    "*Type the given code into the cell below*\n",
    "\n",
    "---\n",
    "**Using print**: \n",
    "```python\n",
    "username = \"root\"\n",
    "password = \"1234\"\n",
    "print(username)\n",
    "print(password)\n",
    "```"
   ]
  },
  {
   "cell_type": "code",
   "execution_count": null,
   "metadata": {},
   "outputs": [],
   "source": []
  },
  {
   "cell_type": "markdown",
   "metadata": {},
   "source": [
    "### Exercises\n",
    "---\n",
    "**1. What kind of error is being made in the following function? Can you fix it?**"
   ]
  },
  {
   "cell_type": "code",
   "execution_count": null,
   "metadata": {},
   "outputs": [],
   "source": [
    "def calculate_tip(price_of_meal, percent):\n",
    "    answer = price_of_meal * percent/100\n",
    "    return answer\n",
    "\n",
    "# Syntax error"
   ]
  },
  {
   "cell_type": "markdown",
   "metadata": {},
   "source": [
    "**2. What kind of error occurs in this function? Try to fix it.**"
   ]
  },
  {
   "cell_type": "code",
   "execution_count": 25,
   "metadata": {},
   "outputs": [],
   "source": [
    "def reverse_and_shorten(my_string):\n",
    "    reverse = my_string[::-1]\n",
    "    shorten = my_string[1:]\n",
    "    return shorten\n",
    "\n",
    "# Semantic error"
   ]
  },
  {
   "cell_type": "markdown",
   "metadata": {},
   "source": [
    "**3. You know the drill. What kind of error is happening? Can you fix it?**"
   ]
  },
  {
   "cell_type": "code",
   "execution_count": 2,
   "metadata": {},
   "outputs": [],
   "source": [
    "def say_age(age):\n",
    "    answer = \"I am \" + str(age) + \"years old\"\n",
    "    return answer\n",
    "\n",
    "# Runtime error"
   ]
  },
  {
   "cell_type": "markdown",
   "metadata": {},
   "source": [
    "## Extra Credit\n",
    "---\n",
    "\n",
    "**1. For each type of error, write your own function that will cause it. Make it as difficult to debug as possible!** \n",
    "\n",
    "**Time permitting, I will put these up as puzzles for us to solve as a class.** "
   ]
  },
  {
   "cell_type": "code",
   "execution_count": null,
   "metadata": {},
   "outputs": [],
   "source": []
  },
  {
   "cell_type": "markdown",
   "metadata": {},
   "source": [
    "## III. Lists\n",
    "### Warm Ups\n",
    "*Type the given code into the cell below*\n",
    "\n",
    "---\n",
    "**List literal:** `evil_jedi = [\"sidious\", \"vader\", \"maul\"]`"
   ]
  },
  {
   "cell_type": "code",
   "execution_count": null,
   "metadata": {},
   "outputs": [],
   "source": []
  },
  {
   "cell_type": "markdown",
   "metadata": {},
   "source": [
    "**Append**: `evil_jedi.append(\"dooku\")`"
   ]
  },
  {
   "cell_type": "code",
   "execution_count": null,
   "metadata": {},
   "outputs": [],
   "source": []
  },
  {
   "cell_type": "markdown",
   "metadata": {},
   "source": [
    "**Insert:** `evil_jedi.insert(2, \"rylo ken\")` "
   ]
  },
  {
   "cell_type": "code",
   "execution_count": null,
   "metadata": {},
   "outputs": [],
   "source": []
  },
  {
   "cell_type": "markdown",
   "metadata": {},
   "source": [
    "**Replace element at index:** `evil_jedi[1] = \"anakin\"`"
   ]
  },
  {
   "cell_type": "code",
   "execution_count": null,
   "metadata": {},
   "outputs": [],
   "source": []
  },
  {
   "cell_type": "markdown",
   "metadata": {},
   "source": [
    "**Pop:** `evil_jedi.pop()`"
   ]
  },
  {
   "cell_type": "code",
   "execution_count": null,
   "metadata": {},
   "outputs": [],
   "source": []
  },
  {
   "cell_type": "markdown",
   "metadata": {},
   "source": [
    "### Exercises\n",
    "---\n",
    "\n",
    "**1. Use list methods to turn the following list into the integers 1 to 9. See how few lines you can use.**"
   ]
  },
  {
   "cell_type": "code",
   "execution_count": 13,
   "metadata": {},
   "outputs": [
    {
     "data": {
      "text/plain": [
       "[1, 2, 3, 4, 5, 6, 7, 8, 9]"
      ]
     },
     "execution_count": 13,
     "metadata": {},
     "output_type": "execute_result"
    }
   ],
   "source": [
    "my_list = [1, \"two\", 3, 4, 6, 5, 9]\n",
    "\n",
    "my_list[1] = 2\n",
    "my_list.insert(4, my_list.pop(5)) \n",
    "my_list[6] = 7\n",
    "my_list.append(8)\n",
    "my_list.append(9)"
   ]
  },
  {
   "cell_type": "markdown",
   "metadata": {},
   "source": [
    "**2. Write a function that, when given a list, reverses it and adds a** `\"!\"` **to both the beginning and end.**"
   ]
  },
  {
   "cell_type": "code",
   "execution_count": 15,
   "metadata": {},
   "outputs": [],
   "source": [
    "def reverse_list(my_list):\n",
    "    reverse = my_list[::-1]\n",
    "    reverse.append(\"!\")\n",
    "    reverse.insert(0, \"!\")\n",
    "    return reverse\n"
   ]
  },
  {
   "cell_type": "markdown",
   "metadata": {},
   "source": [
    "**3. Write a function** `mark_done()` **that takes a list and an integer. The function should replace the item at the integer's location with** `\"DONE\"`, **then return the list.**\n",
    "\n",
    "For example, `mark_done([\"milk\", \"eggs\", \"cookies\"], 0)` should return `[\"DONE\", \"eggs\", \"cookies\"]`"
   ]
  },
  {
   "cell_type": "code",
   "execution_count": 16,
   "metadata": {},
   "outputs": [
    {
     "data": {
      "text/plain": [
       "['DONE', 'eggs', 'cookies']"
      ]
     },
     "execution_count": 16,
     "metadata": {},
     "output_type": "execute_result"
    }
   ],
   "source": [
    "def mark_done(groceries, index):\n",
    "    groceries[index] = \"DONE\"\n",
    "    return groceries"
   ]
  },
  {
   "cell_type": "markdown",
   "metadata": {},
   "source": [
    "**4. Lists can also be sorted, using the** `sorted()` **function. For example,** `sorted([3,2,1])` **would return** `[1,2,3]`. \n",
    "\n",
    "**Write a function** `min_and_max()` **that will take a list and return the smallest and largest elements as a list of length 2.**\n",
    "\n",
    "**For example,** `min_and_max([1, -1, 3])` **should return** `[-1, 3]`"
   ]
  },
  {
   "cell_type": "code",
   "execution_count": 18,
   "metadata": {},
   "outputs": [],
   "source": [
    "def min_and_max(my_list):\n",
    "    sort = sorted(my_list)\n",
    "    front = sort[0]\n",
    "    back = sort[-1]\n",
    "    return [front, back]"
   ]
  },
  {
   "cell_type": "markdown",
   "metadata": {},
   "source": [
    "## Extra Credit\n",
    "---\n",
    "\n",
    "**1. Write a function** `scratch_done()` **that takes a list and an integer. The function should replace the item at the integer's location with X's over every letter.**\n",
    "\n",
    "**For example,** `scratch_done([\"milk\", \"eggs\", \"cookies\"], 0)` should return `[\"XXXX\", \"eggs\", \"cookies\"]`\n",
    "\n",
    "Hint: Multiplication works on strings, and will copy the string the given number of times. For example `\"a\"*3` will become `\"aaa\"` "
   ]
  },
  {
   "cell_type": "code",
   "execution_count": 20,
   "metadata": {},
   "outputs": [],
   "source": [
    "def scratch_done(groceries, index):\n",
    "    groceries[index] = 'X'*len(groceries[index])\n",
    "    return groceries"
   ]
  }
 ],
 "metadata": {
  "kernelspec": {
   "display_name": "Python 3",
   "language": "python",
   "name": "python3"
  },
  "language_info": {
   "codemirror_mode": {
    "name": "ipython",
    "version": 3
   },
   "file_extension": ".py",
   "mimetype": "text/x-python",
   "name": "python",
   "nbconvert_exporter": "python",
   "pygments_lexer": "ipython3",
   "version": "3.6.8"
  }
 },
 "nbformat": 4,
 "nbformat_minor": 2
}
